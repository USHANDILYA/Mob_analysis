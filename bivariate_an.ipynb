{
 "cells": [
  {
   "cell_type": "code",
   "execution_count": 40,
   "metadata": {},
   "outputs": [],
   "source": [
    "import pandas as pd\n",
    "import seaborn as sns"
   ]
  },
  {
   "cell_type": "code",
   "execution_count": 23,
   "metadata": {},
   "outputs": [],
   "source": [
    "df=pd.read_csv(r\"Assignment - Junior Data Analyst.csv\")"
   ]
  },
  {
   "cell_type": "code",
   "execution_count": 24,
   "metadata": {},
   "outputs": [
    {
     "data": {
      "text/html": [
       "<div>\n",
       "<style scoped>\n",
       "    .dataframe tbody tr th:only-of-type {\n",
       "        vertical-align: middle;\n",
       "    }\n",
       "\n",
       "    .dataframe tbody tr th {\n",
       "        vertical-align: top;\n",
       "    }\n",
       "\n",
       "    .dataframe thead th {\n",
       "        text-align: right;\n",
       "    }\n",
       "</style>\n",
       "<table border=\"1\" class=\"dataframe\">\n",
       "  <thead>\n",
       "    <tr style=\"text-align: right;\">\n",
       "      <th></th>\n",
       "      <th>battery</th>\n",
       "      <th>camera</th>\n",
       "      <th>display</th>\n",
       "      <th>memory</th>\n",
       "      <th>name</th>\n",
       "      <th>price</th>\n",
       "      <th>processor</th>\n",
       "      <th>rating</th>\n",
       "      <th>reviews</th>\n",
       "      <th>warranty</th>\n",
       "    </tr>\n",
       "  </thead>\n",
       "  <tbody>\n",
       "    <tr>\n",
       "      <th>0</th>\n",
       "      <td>5000 mAh Battery</td>\n",
       "      <td>12MP + 2MP | 8MP Front Camera</td>\n",
       "      <td>15.8 cm (6.22 inch) HD+ Display</td>\n",
       "      <td>4 GB RAM | 64 GB ROM | Expandable Upto 512 GB</td>\n",
       "      <td>Redmi 8 (Ruby Red, 64 GB)</td>\n",
       "      <td>9999</td>\n",
       "      <td>Qualcomm Snapdragon 439 Processor</td>\n",
       "      <td>4.4</td>\n",
       "      <td>55,078 Reviews</td>\n",
       "      <td>Brand Warranty of 1 Year Available for Mobile ...</td>\n",
       "    </tr>\n",
       "    <tr>\n",
       "      <th>1</th>\n",
       "      <td>5000 mAh Battery</td>\n",
       "      <td>12MP + 8MP + 2MP + 2MP | 8MP Front Camera</td>\n",
       "      <td>16.56 cm (6.52 inch) HD+ Display</td>\n",
       "      <td>4 GB RAM | 64 GB ROM</td>\n",
       "      <td>Realme 5i (Aqua Blue, 64 GB)</td>\n",
       "      <td>10999</td>\n",
       "      <td>Qualcomm Snapdragon 665 2 GHz Processor</td>\n",
       "      <td>4.5</td>\n",
       "      <td>20,062 Reviews</td>\n",
       "      <td>Sunrise Design</td>\n",
       "    </tr>\n",
       "    <tr>\n",
       "      <th>2</th>\n",
       "      <td>5000 mAh Battery</td>\n",
       "      <td>12MP + 8MP + 2MP + 2MP | 8MP Front Camera</td>\n",
       "      <td>16.56 cm (6.52 inch) HD+ Display</td>\n",
       "      <td>4 GB RAM | 128 GB ROM</td>\n",
       "      <td>Realme 5i (Aqua Blue, 128 GB)</td>\n",
       "      <td>11999</td>\n",
       "      <td>Qualcomm Snapdragon 665 (2 GHz) Processor</td>\n",
       "      <td>4.5</td>\n",
       "      <td>20,062 Reviews</td>\n",
       "      <td>Sunrise Design</td>\n",
       "    </tr>\n",
       "    <tr>\n",
       "      <th>3</th>\n",
       "      <td>5000 mAh Battery</td>\n",
       "      <td>12MP + 8MP + 2MP + 2MP | 8MP Front Camera</td>\n",
       "      <td>16.56 cm (6.52 inch) HD+ Display</td>\n",
       "      <td>4 GB RAM | 128 GB ROM</td>\n",
       "      <td>Realme 5i (Forest Green, 128 GB)</td>\n",
       "      <td>11999</td>\n",
       "      <td>Qualcomm Snapdragon 665 (2 GHz) Processor</td>\n",
       "      <td>4.5</td>\n",
       "      <td>20,062 Reviews</td>\n",
       "      <td>Sunrise Design</td>\n",
       "    </tr>\n",
       "    <tr>\n",
       "      <th>4</th>\n",
       "      <td>4000 mAh Battery</td>\n",
       "      <td>13MP + 2MP | 5MP Front Camera</td>\n",
       "      <td>15.49 cm (6.1 inch) HD+ Display</td>\n",
       "      <td>3 GB RAM | 32 GB ROM | Expandable Upto 256 GB</td>\n",
       "      <td>Realme C2 (Diamond Blue, 32 GB)</td>\n",
       "      <td>7499</td>\n",
       "      <td>MediaTek P22 Octa Core 2.0 GHz Processor</td>\n",
       "      <td>4.4</td>\n",
       "      <td>10,091 Reviews</td>\n",
       "      <td>Dual Nano SIM slots and Memory Card Slot</td>\n",
       "    </tr>\n",
       "  </tbody>\n",
       "</table>\n",
       "</div>"
      ],
      "text/plain": [
       "            battery                                     camera  \\\n",
       "0  5000 mAh Battery              12MP + 2MP | 8MP Front Camera   \n",
       "1  5000 mAh Battery  12MP + 8MP + 2MP + 2MP | 8MP Front Camera   \n",
       "2  5000 mAh Battery  12MP + 8MP + 2MP + 2MP | 8MP Front Camera   \n",
       "3  5000 mAh Battery  12MP + 8MP + 2MP + 2MP | 8MP Front Camera   \n",
       "4  4000 mAh Battery              13MP + 2MP | 5MP Front Camera   \n",
       "\n",
       "                            display  \\\n",
       "0   15.8 cm (6.22 inch) HD+ Display   \n",
       "1  16.56 cm (6.52 inch) HD+ Display   \n",
       "2  16.56 cm (6.52 inch) HD+ Display   \n",
       "3  16.56 cm (6.52 inch) HD+ Display   \n",
       "4   15.49 cm (6.1 inch) HD+ Display   \n",
       "\n",
       "                                          memory  \\\n",
       "0  4 GB RAM | 64 GB ROM | Expandable Upto 512 GB   \n",
       "1                           4 GB RAM | 64 GB ROM   \n",
       "2                          4 GB RAM | 128 GB ROM   \n",
       "3                          4 GB RAM | 128 GB ROM   \n",
       "4  3 GB RAM | 32 GB ROM | Expandable Upto 256 GB   \n",
       "\n",
       "                               name  price  \\\n",
       "0         Redmi 8 (Ruby Red, 64 GB)   9999   \n",
       "1      Realme 5i (Aqua Blue, 64 GB)  10999   \n",
       "2     Realme 5i (Aqua Blue, 128 GB)  11999   \n",
       "3  Realme 5i (Forest Green, 128 GB)  11999   \n",
       "4   Realme C2 (Diamond Blue, 32 GB)   7499   \n",
       "\n",
       "                                   processor  rating         reviews  \\\n",
       "0          Qualcomm Snapdragon 439 Processor     4.4  55,078 Reviews   \n",
       "1    Qualcomm Snapdragon 665 2 GHz Processor     4.5  20,062 Reviews   \n",
       "2  Qualcomm Snapdragon 665 (2 GHz) Processor     4.5  20,062 Reviews   \n",
       "3  Qualcomm Snapdragon 665 (2 GHz) Processor     4.5  20,062 Reviews   \n",
       "4   MediaTek P22 Octa Core 2.0 GHz Processor     4.4  10,091 Reviews   \n",
       "\n",
       "                                            warranty  \n",
       "0  Brand Warranty of 1 Year Available for Mobile ...  \n",
       "1                                     Sunrise Design  \n",
       "2                                     Sunrise Design  \n",
       "3                                     Sunrise Design  \n",
       "4           Dual Nano SIM slots and Memory Card Slot  "
      ]
     },
     "execution_count": 24,
     "metadata": {},
     "output_type": "execute_result"
    }
   ],
   "source": [
    "df.head()"
   ]
  },
  {
   "cell_type": "code",
   "execution_count": 25,
   "metadata": {},
   "outputs": [
    {
     "name": "stderr",
     "output_type": "stream",
     "text": [
      "C:\\Users\\UTKARSH\\AppData\\Local\\Temp\\ipykernel_51320\\4254771022.py:5: SettingWithCopyWarning: \n",
      "A value is trying to be set on a copy of a slice from a DataFrame\n",
      "\n",
      "See the caveats in the documentation: https://pandas.pydata.org/pandas-docs/stable/user_guide/indexing.html#returning-a-view-versus-a-copy\n",
      "  df['Price Class'][i]=\"Cheap\"\n",
      "C:\\Users\\UTKARSH\\AppData\\Local\\Temp\\ipykernel_51320\\4254771022.py:7: SettingWithCopyWarning: \n",
      "A value is trying to be set on a copy of a slice from a DataFrame\n",
      "\n",
      "See the caveats in the documentation: https://pandas.pydata.org/pandas-docs/stable/user_guide/indexing.html#returning-a-view-versus-a-copy\n",
      "  df['Price Class'][i]=\"Standard\"\n",
      "C:\\Users\\UTKARSH\\AppData\\Local\\Temp\\ipykernel_51320\\4254771022.py:8: SettingWithCopyWarning: \n",
      "A value is trying to be set on a copy of a slice from a DataFrame\n",
      "\n",
      "See the caveats in the documentation: https://pandas.pydata.org/pandas-docs/stable/user_guide/indexing.html#returning-a-view-versus-a-copy\n",
      "  else: df['Price Class'][i]=\"Expensive\"\n"
     ]
    }
   ],
   "source": [
    "df.insert(10,'Price Class','')\n",
    "i=0\n",
    "while i<len(df['price']):\n",
    "    if(df['price'][i]<=10000):\n",
    "        df['Price Class'][i]=\"Cheap\"\n",
    "    elif(df['price'][i]>10000 and df['price'][i]<=40000):\n",
    "        df['Price Class'][i]=\"Standard\"\n",
    "    else: df['Price Class'][i]=\"Expensive\"\n",
    "    i=i+1  "
   ]
  },
  {
   "cell_type": "code",
   "execution_count": 7,
   "metadata": {},
   "outputs": [
    {
     "data": {
      "text/html": [
       "<div>\n",
       "<style scoped>\n",
       "    .dataframe tbody tr th:only-of-type {\n",
       "        vertical-align: middle;\n",
       "    }\n",
       "\n",
       "    .dataframe tbody tr th {\n",
       "        vertical-align: top;\n",
       "    }\n",
       "\n",
       "    .dataframe thead th {\n",
       "        text-align: right;\n",
       "    }\n",
       "</style>\n",
       "<table border=\"1\" class=\"dataframe\">\n",
       "  <thead>\n",
       "    <tr style=\"text-align: right;\">\n",
       "      <th>col_0</th>\n",
       "      <th>count</th>\n",
       "    </tr>\n",
       "    <tr>\n",
       "      <th>Price Class</th>\n",
       "      <th></th>\n",
       "    </tr>\n",
       "  </thead>\n",
       "  <tbody>\n",
       "    <tr>\n",
       "      <th>Cheap</th>\n",
       "      <td>416</td>\n",
       "    </tr>\n",
       "    <tr>\n",
       "      <th>Expensive</th>\n",
       "      <td>42</td>\n",
       "    </tr>\n",
       "    <tr>\n",
       "      <th>Standard</th>\n",
       "      <td>526</td>\n",
       "    </tr>\n",
       "  </tbody>\n",
       "</table>\n",
       "</div>"
      ],
      "text/plain": [
       "col_0        count\n",
       "Price Class       \n",
       "Cheap          416\n",
       "Expensive       42\n",
       "Standard       526"
      ]
     },
     "execution_count": 7,
     "metadata": {},
     "output_type": "execute_result"
    }
   ],
   "source": [
    "pd.crosstab(index=df['Price Class'],columns='count',dropna=True)"
   ]
  },
  {
   "cell_type": "code",
   "execution_count": 26,
   "metadata": {},
   "outputs": [
    {
     "name": "stderr",
     "output_type": "stream",
     "text": [
      "C:\\Users\\UTKARSH\\AppData\\Local\\Temp\\ipykernel_51320\\1737153681.py:8: SettingWithCopyWarning: \n",
      "A value is trying to be set on a copy of a slice from a DataFrame\n",
      "\n",
      "See the caveats in the documentation: https://pandas.pydata.org/pandas-docs/stable/user_guide/indexing.html#returning-a-view-versus-a-copy\n",
      "  else: df['Rating Class'][i]=\"Great\"\n",
      "C:\\Users\\UTKARSH\\AppData\\Local\\Temp\\ipykernel_51320\\1737153681.py:7: SettingWithCopyWarning: \n",
      "A value is trying to be set on a copy of a slice from a DataFrame\n",
      "\n",
      "See the caveats in the documentation: https://pandas.pydata.org/pandas-docs/stable/user_guide/indexing.html#returning-a-view-versus-a-copy\n",
      "  df['Rating Class'][i]=\"Stable\"\n",
      "C:\\Users\\UTKARSH\\AppData\\Local\\Temp\\ipykernel_51320\\1737153681.py:5: SettingWithCopyWarning: \n",
      "A value is trying to be set on a copy of a slice from a DataFrame\n",
      "\n",
      "See the caveats in the documentation: https://pandas.pydata.org/pandas-docs/stable/user_guide/indexing.html#returning-a-view-versus-a-copy\n",
      "  df['Rating Class'][i]=\"Not good\"\n"
     ]
    }
   ],
   "source": [
    "df.insert(11,'Rating Class','')\n",
    "i=0\n",
    "while i<len(df['rating']):\n",
    "    if(df['rating'][i]<=3.0):\n",
    "        df['Rating Class'][i]=\"Not good\"\n",
    "    elif(df['rating'][i]>3.0 and df['rating'][i]<=3.8):\n",
    "        df['Rating Class'][i]=\"Stable\"\n",
    "    else: df['Rating Class'][i]=\"Great\"\n",
    "    i=i+1  "
   ]
  },
  {
   "cell_type": "code",
   "execution_count": 27,
   "metadata": {},
   "outputs": [
    {
     "data": {
      "text/html": [
       "<div>\n",
       "<style scoped>\n",
       "    .dataframe tbody tr th:only-of-type {\n",
       "        vertical-align: middle;\n",
       "    }\n",
       "\n",
       "    .dataframe tbody tr th {\n",
       "        vertical-align: top;\n",
       "    }\n",
       "\n",
       "    .dataframe thead th {\n",
       "        text-align: right;\n",
       "    }\n",
       "</style>\n",
       "<table border=\"1\" class=\"dataframe\">\n",
       "  <thead>\n",
       "    <tr style=\"text-align: right;\">\n",
       "      <th>Rating Class</th>\n",
       "      <th>Great</th>\n",
       "      <th>Not good</th>\n",
       "      <th>Stable</th>\n",
       "      <th>All</th>\n",
       "    </tr>\n",
       "    <tr>\n",
       "      <th>Price Class</th>\n",
       "      <th></th>\n",
       "      <th></th>\n",
       "      <th></th>\n",
       "      <th></th>\n",
       "    </tr>\n",
       "  </thead>\n",
       "  <tbody>\n",
       "    <tr>\n",
       "      <th>Cheap</th>\n",
       "      <td>0.310976</td>\n",
       "      <td>0.004065</td>\n",
       "      <td>0.107724</td>\n",
       "      <td>0.422764</td>\n",
       "    </tr>\n",
       "    <tr>\n",
       "      <th>Expensive</th>\n",
       "      <td>0.042683</td>\n",
       "      <td>0.000000</td>\n",
       "      <td>0.000000</td>\n",
       "      <td>0.042683</td>\n",
       "    </tr>\n",
       "    <tr>\n",
       "      <th>Standard</th>\n",
       "      <td>0.531504</td>\n",
       "      <td>0.000000</td>\n",
       "      <td>0.003049</td>\n",
       "      <td>0.534553</td>\n",
       "    </tr>\n",
       "    <tr>\n",
       "      <th>All</th>\n",
       "      <td>0.885163</td>\n",
       "      <td>0.004065</td>\n",
       "      <td>0.110772</td>\n",
       "      <td>1.000000</td>\n",
       "    </tr>\n",
       "  </tbody>\n",
       "</table>\n",
       "</div>"
      ],
      "text/plain": [
       "Rating Class     Great  Not good    Stable       All\n",
       "Price Class                                         \n",
       "Cheap         0.310976  0.004065  0.107724  0.422764\n",
       "Expensive     0.042683  0.000000  0.000000  0.042683\n",
       "Standard      0.531504  0.000000  0.003049  0.534553\n",
       "All           0.885163  0.004065  0.110772  1.000000"
      ]
     },
     "execution_count": 27,
     "metadata": {},
     "output_type": "execute_result"
    }
   ],
   "source": [
    "pd.crosstab(index=df['Price Class'],columns=df['Rating Class'],margins=True,normalize=True,dropna=True)"
   ]
  },
  {
   "cell_type": "code",
   "execution_count": 28,
   "metadata": {},
   "outputs": [],
   "source": [
    "numerical_data=df.select_dtypes(exclude=[object])"
   ]
  },
  {
   "cell_type": "code",
   "execution_count": 29,
   "metadata": {},
   "outputs": [],
   "source": [
    "correlation_matrix=numerical_data.corr()"
   ]
  },
  {
   "cell_type": "code",
   "execution_count": 30,
   "metadata": {},
   "outputs": [
    {
     "data": {
      "text/html": [
       "<div>\n",
       "<style scoped>\n",
       "    .dataframe tbody tr th:only-of-type {\n",
       "        vertical-align: middle;\n",
       "    }\n",
       "\n",
       "    .dataframe tbody tr th {\n",
       "        vertical-align: top;\n",
       "    }\n",
       "\n",
       "    .dataframe thead th {\n",
       "        text-align: right;\n",
       "    }\n",
       "</style>\n",
       "<table border=\"1\" class=\"dataframe\">\n",
       "  <thead>\n",
       "    <tr style=\"text-align: right;\">\n",
       "      <th></th>\n",
       "      <th>price</th>\n",
       "      <th>rating</th>\n",
       "    </tr>\n",
       "  </thead>\n",
       "  <tbody>\n",
       "    <tr>\n",
       "      <th>price</th>\n",
       "      <td>1.000000</td>\n",
       "      <td>0.469329</td>\n",
       "    </tr>\n",
       "    <tr>\n",
       "      <th>rating</th>\n",
       "      <td>0.469329</td>\n",
       "      <td>1.000000</td>\n",
       "    </tr>\n",
       "  </tbody>\n",
       "</table>\n",
       "</div>"
      ],
      "text/plain": [
       "           price    rating\n",
       "price   1.000000  0.469329\n",
       "rating  0.469329  1.000000"
      ]
     },
     "execution_count": 30,
     "metadata": {},
     "output_type": "execute_result"
    }
   ],
   "source": [
    "correlation_matrix"
   ]
  },
  {
   "cell_type": "code",
   "execution_count": null,
   "metadata": {},
   "outputs": [],
   "source": [
    "sns.lmplot(x='Price Class',y='Rating Class',data=df,fit_reg=False,legend=True,palette=\"Set 1\")"
   ]
  },
  {
   "cell_type": "code",
   "execution_count": 32,
   "metadata": {},
   "outputs": [
    {
     "data": {
      "text/plain": [
       "battery          object\n",
       "camera           object\n",
       "display          object\n",
       "memory           object\n",
       "name             object\n",
       "price             int64\n",
       "processor        object\n",
       "rating          float64\n",
       "reviews          object\n",
       "warranty         object\n",
       "Price Class      object\n",
       "Rating Class     object\n",
       "dtype: object"
      ]
     },
     "execution_count": 32,
     "metadata": {},
     "output_type": "execute_result"
    }
   ],
   "source": [
    "df.dtypes"
   ]
  },
  {
   "cell_type": "code",
   "execution_count": 36,
   "metadata": {},
   "outputs": [
    {
     "name": "stderr",
     "output_type": "stream",
     "text": [
      "c:\\ProgramData\\Anaconda3\\lib\\site-packages\\seaborn\\_decorators.py:36: FutureWarning: Pass the following variables as keyword args: x, y. From version 0.12, the only valid positional argument will be `data`, and passing other arguments without an explicit keyword will result in an error or misinterpretation.\n",
      "  warnings.warn(\n"
     ]
    },
    {
     "data": {
      "text/plain": [
       "<AxesSubplot:xlabel='price', ylabel='Rating Class'>"
      ]
     },
     "execution_count": 36,
     "metadata": {},
     "output_type": "execute_result"
    }
   ],
   "source": [
    "sns.scatterplot(df['price'],df['rating'],hue=df['Price Class'])"
   ]
  },
  {
   "cell_type": "code",
   "execution_count": 38,
   "metadata": {},
   "outputs": [
    {
     "name": "stderr",
     "output_type": "stream",
     "text": [
      "c:\\ProgramData\\Anaconda3\\lib\\site-packages\\seaborn\\_decorators.py:36: FutureWarning: Pass the following variables as keyword args: x, y. From version 0.12, the only valid positional argument will be `data`, and passing other arguments without an explicit keyword will result in an error or misinterpretation.\n",
      "  warnings.warn(\n"
     ]
    },
    {
     "data": {
      "text/plain": [
       "<AxesSubplot:xlabel='Price Class', ylabel='rating'>"
      ]
     },
     "execution_count": 38,
     "metadata": {},
     "output_type": "execute_result"
    }
   ],
   "source": [
    "sns.barplot(df['Price Class'],df['rating'])"
   ]
  },
  {
   "cell_type": "code",
   "execution_count": 42,
   "metadata": {},
   "outputs": [
    {
     "name": "stderr",
     "output_type": "stream",
     "text": [
      "c:\\ProgramData\\Anaconda3\\lib\\site-packages\\seaborn\\_decorators.py:36: FutureWarning: Pass the following variables as keyword args: x, y. From version 0.12, the only valid positional argument will be `data`, and passing other arguments without an explicit keyword will result in an error or misinterpretation.\n",
      "  warnings.warn(\n"
     ]
    },
    {
     "data": {
      "text/plain": [
       "<AxesSubplot:xlabel='Price Class', ylabel='rating'>"
      ]
     },
     "execution_count": 42,
     "metadata": {},
     "output_type": "execute_result"
    }
   ],
   "source": [
    "sns.boxplot(df[\"Price Class\"],df[\"rating\"])"
   ]
  },
  {
   "cell_type": "code",
   "execution_count": 43,
   "metadata": {},
   "outputs": [
    {
     "data": {
      "text/plain": [
       "<AxesSubplot:xlabel='Rating Class', ylabel='Price Class'>"
      ]
     },
     "execution_count": 43,
     "metadata": {},
     "output_type": "execute_result"
    }
   ],
   "source": [
    "sns.heatmap(pd.crosstab(index=df['Price Class'],columns=df['Rating Class'],margins=True,normalize=True,dropna=True))"
   ]
  },
  {
   "cell_type": "code",
   "execution_count": 44,
   "metadata": {},
   "outputs": [
    {
     "data": {
      "text/plain": [
       "<seaborn.matrix.ClusterGrid at 0x2674bccacd0>"
      ]
     },
     "execution_count": 44,
     "metadata": {},
     "output_type": "execute_result"
    }
   ],
   "source": [
    "sns.clustermap(pd.crosstab(index=df['Price Class'],columns=df['Rating Class'],margins=True,normalize=True,dropna=True))"
   ]
  }
 ],
 "metadata": {
  "kernelspec": {
   "display_name": "base",
   "language": "python",
   "name": "python3"
  },
  "language_info": {
   "codemirror_mode": {
    "name": "ipython",
    "version": 3
   },
   "file_extension": ".py",
   "mimetype": "text/x-python",
   "name": "python",
   "nbconvert_exporter": "python",
   "pygments_lexer": "ipython3",
   "version": "3.9.13"
  }
 },
 "nbformat": 4,
 "nbformat_minor": 2
}
