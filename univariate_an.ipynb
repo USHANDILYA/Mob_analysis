{
 "cells": [
  {
   "cell_type": "code",
   "execution_count": 1,
   "metadata": {},
   "outputs": [],
   "source": [
    "import pandas as pd\n",
    "import seaborn as sns"
   ]
  },
  {
   "cell_type": "code",
   "execution_count": 3,
   "metadata": {},
   "outputs": [],
   "source": [
    "df=pd.read_csv(r\"Assignment - Junior Data Analyst.csv\")"
   ]
  },
  {
   "cell_type": "code",
   "execution_count": 4,
   "metadata": {},
   "outputs": [
    {
     "data": {
      "text/html": [
       "<div>\n",
       "<style scoped>\n",
       "    .dataframe tbody tr th:only-of-type {\n",
       "        vertical-align: middle;\n",
       "    }\n",
       "\n",
       "    .dataframe tbody tr th {\n",
       "        vertical-align: top;\n",
       "    }\n",
       "\n",
       "    .dataframe thead th {\n",
       "        text-align: right;\n",
       "    }\n",
       "</style>\n",
       "<table border=\"1\" class=\"dataframe\">\n",
       "  <thead>\n",
       "    <tr style=\"text-align: right;\">\n",
       "      <th></th>\n",
       "      <th>battery</th>\n",
       "      <th>camera</th>\n",
       "      <th>display</th>\n",
       "      <th>memory</th>\n",
       "      <th>name</th>\n",
       "      <th>price</th>\n",
       "      <th>processor</th>\n",
       "      <th>rating</th>\n",
       "      <th>reviews</th>\n",
       "      <th>warranty</th>\n",
       "    </tr>\n",
       "  </thead>\n",
       "  <tbody>\n",
       "    <tr>\n",
       "      <th>0</th>\n",
       "      <td>5000 mAh Battery</td>\n",
       "      <td>12MP + 2MP | 8MP Front Camera</td>\n",
       "      <td>15.8 cm (6.22 inch) HD+ Display</td>\n",
       "      <td>4 GB RAM | 64 GB ROM | Expandable Upto 512 GB</td>\n",
       "      <td>Redmi 8 (Ruby Red, 64 GB)</td>\n",
       "      <td>9999</td>\n",
       "      <td>Qualcomm Snapdragon 439 Processor</td>\n",
       "      <td>4.4</td>\n",
       "      <td>55,078 Reviews</td>\n",
       "      <td>Brand Warranty of 1 Year Available for Mobile ...</td>\n",
       "    </tr>\n",
       "    <tr>\n",
       "      <th>1</th>\n",
       "      <td>5000 mAh Battery</td>\n",
       "      <td>12MP + 8MP + 2MP + 2MP | 8MP Front Camera</td>\n",
       "      <td>16.56 cm (6.52 inch) HD+ Display</td>\n",
       "      <td>4 GB RAM | 64 GB ROM</td>\n",
       "      <td>Realme 5i (Aqua Blue, 64 GB)</td>\n",
       "      <td>10999</td>\n",
       "      <td>Qualcomm Snapdragon 665 2 GHz Processor</td>\n",
       "      <td>4.5</td>\n",
       "      <td>20,062 Reviews</td>\n",
       "      <td>Sunrise Design</td>\n",
       "    </tr>\n",
       "    <tr>\n",
       "      <th>2</th>\n",
       "      <td>5000 mAh Battery</td>\n",
       "      <td>12MP + 8MP + 2MP + 2MP | 8MP Front Camera</td>\n",
       "      <td>16.56 cm (6.52 inch) HD+ Display</td>\n",
       "      <td>4 GB RAM | 128 GB ROM</td>\n",
       "      <td>Realme 5i (Aqua Blue, 128 GB)</td>\n",
       "      <td>11999</td>\n",
       "      <td>Qualcomm Snapdragon 665 (2 GHz) Processor</td>\n",
       "      <td>4.5</td>\n",
       "      <td>20,062 Reviews</td>\n",
       "      <td>Sunrise Design</td>\n",
       "    </tr>\n",
       "    <tr>\n",
       "      <th>3</th>\n",
       "      <td>5000 mAh Battery</td>\n",
       "      <td>12MP + 8MP + 2MP + 2MP | 8MP Front Camera</td>\n",
       "      <td>16.56 cm (6.52 inch) HD+ Display</td>\n",
       "      <td>4 GB RAM | 128 GB ROM</td>\n",
       "      <td>Realme 5i (Forest Green, 128 GB)</td>\n",
       "      <td>11999</td>\n",
       "      <td>Qualcomm Snapdragon 665 (2 GHz) Processor</td>\n",
       "      <td>4.5</td>\n",
       "      <td>20,062 Reviews</td>\n",
       "      <td>Sunrise Design</td>\n",
       "    </tr>\n",
       "    <tr>\n",
       "      <th>4</th>\n",
       "      <td>4000 mAh Battery</td>\n",
       "      <td>13MP + 2MP | 5MP Front Camera</td>\n",
       "      <td>15.49 cm (6.1 inch) HD+ Display</td>\n",
       "      <td>3 GB RAM | 32 GB ROM | Expandable Upto 256 GB</td>\n",
       "      <td>Realme C2 (Diamond Blue, 32 GB)</td>\n",
       "      <td>7499</td>\n",
       "      <td>MediaTek P22 Octa Core 2.0 GHz Processor</td>\n",
       "      <td>4.4</td>\n",
       "      <td>10,091 Reviews</td>\n",
       "      <td>Dual Nano SIM slots and Memory Card Slot</td>\n",
       "    </tr>\n",
       "  </tbody>\n",
       "</table>\n",
       "</div>"
      ],
      "text/plain": [
       "            battery                                     camera  \\\n",
       "0  5000 mAh Battery              12MP + 2MP | 8MP Front Camera   \n",
       "1  5000 mAh Battery  12MP + 8MP + 2MP + 2MP | 8MP Front Camera   \n",
       "2  5000 mAh Battery  12MP + 8MP + 2MP + 2MP | 8MP Front Camera   \n",
       "3  5000 mAh Battery  12MP + 8MP + 2MP + 2MP | 8MP Front Camera   \n",
       "4  4000 mAh Battery              13MP + 2MP | 5MP Front Camera   \n",
       "\n",
       "                            display  \\\n",
       "0   15.8 cm (6.22 inch) HD+ Display   \n",
       "1  16.56 cm (6.52 inch) HD+ Display   \n",
       "2  16.56 cm (6.52 inch) HD+ Display   \n",
       "3  16.56 cm (6.52 inch) HD+ Display   \n",
       "4   15.49 cm (6.1 inch) HD+ Display   \n",
       "\n",
       "                                          memory  \\\n",
       "0  4 GB RAM | 64 GB ROM | Expandable Upto 512 GB   \n",
       "1                           4 GB RAM | 64 GB ROM   \n",
       "2                          4 GB RAM | 128 GB ROM   \n",
       "3                          4 GB RAM | 128 GB ROM   \n",
       "4  3 GB RAM | 32 GB ROM | Expandable Upto 256 GB   \n",
       "\n",
       "                               name  price  \\\n",
       "0         Redmi 8 (Ruby Red, 64 GB)   9999   \n",
       "1      Realme 5i (Aqua Blue, 64 GB)  10999   \n",
       "2     Realme 5i (Aqua Blue, 128 GB)  11999   \n",
       "3  Realme 5i (Forest Green, 128 GB)  11999   \n",
       "4   Realme C2 (Diamond Blue, 32 GB)   7499   \n",
       "\n",
       "                                   processor  rating         reviews  \\\n",
       "0          Qualcomm Snapdragon 439 Processor     4.4  55,078 Reviews   \n",
       "1    Qualcomm Snapdragon 665 2 GHz Processor     4.5  20,062 Reviews   \n",
       "2  Qualcomm Snapdragon 665 (2 GHz) Processor     4.5  20,062 Reviews   \n",
       "3  Qualcomm Snapdragon 665 (2 GHz) Processor     4.5  20,062 Reviews   \n",
       "4   MediaTek P22 Octa Core 2.0 GHz Processor     4.4  10,091 Reviews   \n",
       "\n",
       "                                            warranty  \n",
       "0  Brand Warranty of 1 Year Available for Mobile ...  \n",
       "1                                     Sunrise Design  \n",
       "2                                     Sunrise Design  \n",
       "3                                     Sunrise Design  \n",
       "4           Dual Nano SIM slots and Memory Card Slot  "
      ]
     },
     "execution_count": 4,
     "metadata": {},
     "output_type": "execute_result"
    }
   ],
   "source": [
    "df.head()"
   ]
  },
  {
   "cell_type": "code",
   "execution_count": 5,
   "metadata": {},
   "outputs": [
    {
     "data": {
      "text/plain": [
       "battery       object\n",
       "camera        object\n",
       "display       object\n",
       "memory        object\n",
       "name          object\n",
       "price          int64\n",
       "processor     object\n",
       "rating       float64\n",
       "reviews       object\n",
       "warranty      object\n",
       "dtype: object"
      ]
     },
     "execution_count": 5,
     "metadata": {},
     "output_type": "execute_result"
    }
   ],
   "source": [
    "df.dtypes"
   ]
  },
  {
   "cell_type": "code",
   "execution_count": 6,
   "metadata": {},
   "outputs": [
    {
     "name": "stdout",
     "output_type": "stream",
     "text": [
      "<class 'pandas.core.frame.DataFrame'>\n",
      "RangeIndex: 984 entries, 0 to 983\n",
      "Data columns (total 10 columns):\n",
      " #   Column     Non-Null Count  Dtype  \n",
      "---  ------     --------------  -----  \n",
      " 0   battery    984 non-null    object \n",
      " 1   camera     984 non-null    object \n",
      " 2   display    984 non-null    object \n",
      " 3   memory     984 non-null    object \n",
      " 4   name       984 non-null    object \n",
      " 5   price      984 non-null    int64  \n",
      " 6   processor  983 non-null    object \n",
      " 7   rating     971 non-null    float64\n",
      " 8   reviews    971 non-null    object \n",
      " 9   warranty   836 non-null    object \n",
      "dtypes: float64(1), int64(1), object(8)\n",
      "memory usage: 77.0+ KB\n"
     ]
    }
   ],
   "source": [
    "df.info()"
   ]
  },
  {
   "cell_type": "code",
   "execution_count": 22,
   "metadata": {},
   "outputs": [
    {
     "data": {
      "text/plain": [
       "4.4    244\n",
       "4.5    187\n",
       "4.3    162\n",
       "4.2     81\n",
       "4.1     81\n",
       "4.0     36\n",
       "3.9     34\n",
       "3.8     31\n",
       "4.6     26\n",
       "3.6     24\n",
       "3.7     21\n",
       "3.5     15\n",
       "3.2      7\n",
       "3.4      6\n",
       "4.7      4\n",
       "3.3      3\n",
       "4.8      2\n",
       "3.1      2\n",
       "4.9      1\n",
       "2.8      1\n",
       "2.7      1\n",
       "2.9      1\n",
       "3.0      1\n",
       "Name: rating, dtype: int64"
      ]
     },
     "execution_count": 22,
     "metadata": {},
     "output_type": "execute_result"
    }
   ],
   "source": [
    "df['rating'].value_counts()"
   ]
  },
  {
   "cell_type": "markdown",
   "metadata": {},
   "source": [
    "## CATEGORICAL DATA"
   ]
  },
  {
   "cell_type": "code",
   "execution_count": 8,
   "metadata": {},
   "outputs": [
    {
     "name": "stderr",
     "output_type": "stream",
     "text": [
      "c:\\ProgramData\\Anaconda3\\lib\\site-packages\\seaborn\\_decorators.py:36: FutureWarning: Pass the following variable as a keyword arg: x. From version 0.12, the only valid positional argument will be `data`, and passing other arguments without an explicit keyword will result in an error or misinterpretation.\n",
      "  warnings.warn(\n"
     ]
    },
    {
     "data": {
      "text/plain": [
       "<AxesSubplot:xlabel='rating', ylabel='count'>"
      ]
     },
     "execution_count": 8,
     "metadata": {},
     "output_type": "execute_result"
    },
    {
     "data": {
      "image/png": "[encoded data removed]",
      "text/plain": [
       "<Figure size 640x480 with 1 Axes>"
      ]
     },
     "metadata": {},
     "output_type": "display_data"
    }
   ],
   "source": [
    "sns.countplot(df['rating'])"
   ]
  },
  {
   "cell_type": "code",
   "execution_count": 14,
   "metadata": {},
   "outputs": [
    {
     "data": {
      "text/plain": [
       "<AxesSubplot:ylabel='rating'>"
      ]
     },
     "execution_count": 14,
     "metadata": {},
     "output_type": "execute_result"
    },
    {
     "data": {
      "image/png": "[encoded data removed]",
      "text/plain": [
       "<Figure size 640x480 with 1 Axes>"
      ]
     },
     "metadata": {},
     "output_type": "display_data"
    }
   ],
   "source": [
    "df['rating'].value_counts().plot(kind='pie',autopct='%.2f')"
   ]
  },
  {
   "cell_type": "code",
   "execution_count": 15,
   "metadata": {},
   "outputs": [],
   "source": [
    "df.insert(10,'Price Class','')"
   ]
  },
  {
   "cell_type": "code",
   "execution_count": 23,
   "metadata": {},
   "outputs": [
    {
     "data": {
      "text/plain": [
       "553       887\n",
       "552      1298\n",
       "952      1999\n",
       "951      1999\n",
       "667      2399\n",
       "        ...  \n",
       "503     77999\n",
       "752     97999\n",
       "804     97999\n",
       "502    104999\n",
       "443    104999\n",
       "Name: price, Length: 984, dtype: int64"
      ]
     },
     "execution_count": 23,
     "metadata": {},
     "output_type": "execute_result"
    }
   ],
   "source": [
    "df['price'].sort_values()"
   ]
  },
  {
   "cell_type": "code",
   "execution_count": 25,
   "metadata": {},
   "outputs": [
    {
     "name": "stderr",
     "output_type": "stream",
     "text": [
      "C:\\Users\\UTKARSH\\AppData\\Local\\Temp\\ipykernel_32484\\2526487782.py:4: SettingWithCopyWarning: \n",
      "A value is trying to be set on a copy of a slice from a DataFrame\n",
      "\n",
      "See the caveats in the documentation: https://pandas.pydata.org/pandas-docs/stable/user_guide/indexing.html#returning-a-view-versus-a-copy\n",
      "  df['Price Class'][i]=\"Cheap\"\n",
      "C:\\Users\\UTKARSH\\AppData\\Local\\Temp\\ipykernel_32484\\2526487782.py:6: SettingWithCopyWarning: \n",
      "A value is trying to be set on a copy of a slice from a DataFrame\n",
      "\n",
      "See the caveats in the documentation: https://pandas.pydata.org/pandas-docs/stable/user_guide/indexing.html#returning-a-view-versus-a-copy\n",
      "  df['Price Class'][i]=\"Standard\"\n",
      "C:\\Users\\UTKARSH\\AppData\\Local\\Temp\\ipykernel_32484\\2526487782.py:7: SettingWithCopyWarning: \n",
      "A value is trying to be set on a copy of a slice from a DataFrame\n",
      "\n",
      "See the caveats in the documentation: https://pandas.pydata.org/pandas-docs/stable/user_guide/indexing.html#returning-a-view-versus-a-copy\n",
      "  else: df['Price Class'][i]=\"Expensive\"\n"
     ]
    }
   ],
   "source": [
    "i=0\n",
    "while i<len(df['price']):\n",
    "    if(df['price'][i]<=10000):\n",
    "        df['Price Class'][i]=\"Cheap\"\n",
    "    elif(df['price'][i]>10000 and df['price'][i]<=40000):\n",
    "        df['Price Class'][i]=\"Standard\"\n",
    "    else: df['Price Class'][i]=\"Expensive\"\n",
    "    i=i+1        "
   ]
  },
  {
   "cell_type": "code",
   "execution_count": 32,
   "metadata": {},
   "outputs": [
    {
     "data": {
      "text/plain": [
       "Standard     526\n",
       "Cheap        416\n",
       "Expensive     42\n",
       "Name: Price Class, dtype: int64"
      ]
     },
     "execution_count": 32,
     "metadata": {},
     "output_type": "execute_result"
    }
   ],
   "source": [
    "df['Price Class'].value_counts()"
   ]
  },
  {
   "cell_type": "code",
   "execution_count": 30,
   "metadata": {},
   "outputs": [],
   "source": [
    "df['Price Class'] = df['Price Class'].astype(str)"
   ]
  },
  {
   "cell_type": "code",
   "execution_count": 35,
   "metadata": {},
   "outputs": [
    {
     "data": {
      "text/plain": [
       "battery         object\n",
       "camera          object\n",
       "display         object\n",
       "memory          object\n",
       "name            object\n",
       "price            int64\n",
       "processor       object\n",
       "rating         float64\n",
       "reviews         object\n",
       "warranty        object\n",
       "Price Class     object\n",
       "dtype: object"
      ]
     },
     "execution_count": 35,
     "metadata": {},
     "output_type": "execute_result"
    }
   ],
   "source": [
    "df.dtypes"
   ]
  },
  {
   "cell_type": "code",
   "execution_count": 36,
   "metadata": {},
   "outputs": [
    {
     "data": {
      "text/plain": [
       "<AxesSubplot:ylabel='Price Class'>"
      ]
     },
     "execution_count": 36,
     "metadata": {},
     "output_type": "execute_result"
    },
    {
     "data": {
      "image/png": "[encoded data removed]",
      "text/plain": [
       "<Figure size 640x480 with 1 Axes>"
      ]
     },
     "metadata": {},
     "output_type": "display_data"
    }
   ],
   "source": [
    "df['Price Class'].value_counts().plot(kind='pie',autopct='%.2f')"
   ]
  },
  {
   "cell_type": "markdown",
   "metadata": {},
   "source": [
    "## OBJECT DATA"
   ]
  },
  {
   "cell_type": "code",
   "execution_count": 37,
   "metadata": {},
   "outputs": [],
   "source": [
    "import matplotlib.pyplot as plt"
   ]
  },
  {
   "cell_type": "code",
   "execution_count": 53,
   "metadata": {},
   "outputs": [
    {
     "data": {
      "text/plain": [
       "(array([4., 0., 0., 0., 0., 0., 0., 0., 0., 1.]),\n",
       " array([0. , 0.1, 0.2, 0.3, 0.4, 0.5, 0.6, 0.7, 0.8, 0.9, 1. ]),\n",
       " <BarContainer object of 10 artists>)"
      ]
     },
     "execution_count": 53,
     "metadata": {},
     "output_type": "execute_result"
    },
    {
     "data": {
      "image/png": "[encoded data removed]",
      "text/plain": [
       "<Figure size 640x480 with 1 Axes>"
      ]
     },
     "metadata": {},
     "output_type": "display_data"
    }
   ],
   "source": [
    "plt.hist(df['battery'].head())"
   ]
  },
  {
   "cell_type": "code",
   "execution_count": 59,
   "metadata": {},
   "outputs": [
    {
     "name": "stderr",
     "output_type": "stream",
     "text": [
      "c:\\ProgramData\\Anaconda3\\lib\\site-packages\\seaborn\\_decorators.py:36: FutureWarning: Pass the following variable as a keyword arg: x. From version 0.12, the only valid positional argument will be `data`, and passing other arguments without an explicit keyword will result in an error or misinterpretation.\n",
      "  warnings.warn(\n"
     ]
    },
    {
     "data": {
      "text/plain": [
       "<AxesSubplot:xlabel='price'>"
      ]
     },
     "execution_count": 59,
     "metadata": {},
     "output_type": "execute_result"
    },
    {
     "data": {
      "image/png": "[encoded data removed]",
      "text/plain": [
       "<Figure size 640x480 with 1 Axes>"
      ]
     },
     "metadata": {},
     "output_type": "display_data"
    }
   ],
   "source": [
    "sns.boxplot(df['price'])"
   ]
  },
  {
   "cell_type": "code",
   "execution_count": 60,
   "metadata": {},
   "outputs": [
    {
     "data": {
      "text/plain": [
       "887"
      ]
     },
     "execution_count": 60,
     "metadata": {},
     "output_type": "execute_result"
    }
   ],
   "source": [
    "df['price'].min()"
   ]
  },
  {
   "cell_type": "code",
   "execution_count": 61,
   "metadata": {},
   "outputs": [
    {
     "data": {
      "text/plain": [
       "104999"
      ]
     },
     "execution_count": 61,
     "metadata": {},
     "output_type": "execute_result"
    }
   ],
   "source": [
    "df['price'].max()"
   ]
  }
 ],
 "metadata": {
  "kernelspec": {
   "display_name": "Python 3",
   "language": "python",
   "name": "python3"
  },
  "language_info": {
   "codemirror_mode": {
    "name": "ipython",
    "version": 3
   },
   "file_extension": ".py",
   "mimetype": "text/x-python",
   "name": "python",
   "nbconvert_exporter": "python",
   "pygments_lexer": "ipython3",
   "version": "3.9.13"
  }
 },
 "nbformat": 4,
 "nbformat_minor": 2
}
